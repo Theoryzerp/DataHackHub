{
 "cells": [
  {
   "cell_type": "code",
   "execution_count": 3,
   "id": "7e35cf5d",
   "metadata": {},
   "outputs": [],
   "source": [
    "import pandas as pd\n",
    "import numpy as np\n",
    "import matplotlib.pyplot as plt\n"
   ]
  },
  {
   "cell_type": "code",
   "execution_count": 14,
   "id": "aaeeec80",
   "metadata": {},
   "outputs": [],
   "source": [
    "# Cargar las bases de datos\n",
    "alertas = pd.read_csv(\"Data/Alertas.csv\")\n",
    "chart = pd.read_csv(\"Data/chart.csv\")\n",
    "errores_de_conexion = pd.read_csv(\"Data/Errores de conexion.csv\")\n",
    "# errores = pd.read_csv(\"Data/Errores.csv\", sep = \";\")\n",
    "#otros_errores = pd.read_csv(\"Data/Otros errores.csv\")\n",
    "sesiones = pd.read_csv(\"Data/Sesiones.csv\")\n",
    "potencia_maxima = pd.read_csv(\"Data/potencia-mxima-alcanzada.csv\")"
   ]
  }
 ],
 "metadata": {
  "kernelspec": {
   "display_name": "base",
   "language": "python",
   "name": "python3"
  },
  "language_info": {
   "codemirror_mode": {
    "name": "ipython",
    "version": 3
   },
   "file_extension": ".py",
   "mimetype": "text/x-python",
   "name": "python",
   "nbconvert_exporter": "python",
   "pygments_lexer": "ipython3",
   "version": "3.12.7"
  }
 },
 "nbformat": 4,
 "nbformat_minor": 5
}
